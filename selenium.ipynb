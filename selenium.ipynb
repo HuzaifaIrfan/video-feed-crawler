{
 "cells": [
  {
   "cell_type": "code",
   "execution_count": 10,
   "id": "4ea3dc76",
   "metadata": {},
   "outputs": [
    {
     "name": "stdout",
     "output_type": "stream",
     "text": [
      "SELENIUM_URL at 'http://selenium_chrome:4444/wd/hub'\n"
     ]
    }
   ],
   "source": [
    "from dotenv import load_dotenv\n",
    "import os\n",
    "\n",
    "# Load the .env file\n",
    "load_dotenv(override=True)\n",
    "\n",
    "# Access environment variables\n",
    "SELENIUM_URL = os.getenv(\"SELENIUM_URL\", \"http://localhost:4444/wd/hub\")\n",
    "print(f\"SELENIUM_URL at '{SELENIUM_URL}'\")"
   ]
  },
  {
   "cell_type": "code",
   "execution_count": 11,
   "id": "189a7057",
   "metadata": {},
   "outputs": [],
   "source": [
    "from selenium import webdriver\n",
    "from selenium.webdriver.common.by import By\n",
    "\n",
    "\n",
    "options = webdriver.ChromeOptions()\n",
    "options.add_argument(\"--no-sandbox\")\n",
    "\n",
    "# Connect to the Selenium standalone container\n",
    "driver = webdriver.Remote(\n",
    "    command_executor=SELENIUM_URL,  # Or replace 'localhost' with the container host\n",
    "    options=options\n",
    ")\n"
   ]
  },
  {
   "cell_type": "code",
   "execution_count": 12,
   "id": "89867aac",
   "metadata": {},
   "outputs": [
    {
     "name": "stdout",
     "output_type": "stream",
     "text": [
      "Web form\n"
     ]
    }
   ],
   "source": [
    "driver.get(\"https://www.selenium.dev/selenium/web/web-form.html\")\n",
    "\n",
    "title = driver.title\n",
    "\n",
    "driver.implicitly_wait(20)\n",
    "\n",
    "print(title)"
   ]
  },
  {
   "cell_type": "code",
   "execution_count": 13,
   "id": "c7af0d9a",
   "metadata": {},
   "outputs": [],
   "source": [
    "text_box = driver.find_element(by=By.NAME, value=\"my-text\")\n",
    "submit_button = driver.find_element(by=By.CSS_SELECTOR, value=\"button\")\n",
    "\n",
    "text_box.send_keys(\"Selenium\")\n",
    "submit_button.click()"
   ]
  },
  {
   "cell_type": "code",
   "execution_count": 14,
   "id": "b87f3e05",
   "metadata": {},
   "outputs": [
    {
     "name": "stdout",
     "output_type": "stream",
     "text": [
      "Received!\n"
     ]
    }
   ],
   "source": [
    "message = driver.find_element(by=By.ID, value=\"message\")\n",
    "text = message.text\n",
    "print(text)"
   ]
  },
  {
   "cell_type": "code",
   "execution_count": 15,
   "id": "d6b9e60e",
   "metadata": {},
   "outputs": [],
   "source": [
    "\n",
    "driver.quit()"
   ]
  }
 ],
 "metadata": {
  "kernelspec": {
   "display_name": ".venv",
   "language": "python",
   "name": "python3"
  },
  "language_info": {
   "codemirror_mode": {
    "name": "ipython",
    "version": 3
   },
   "file_extension": ".py",
   "mimetype": "text/x-python",
   "name": "python",
   "nbconvert_exporter": "python",
   "pygments_lexer": "ipython3",
   "version": "3.13.3"
  }
 },
 "nbformat": 4,
 "nbformat_minor": 5
}
