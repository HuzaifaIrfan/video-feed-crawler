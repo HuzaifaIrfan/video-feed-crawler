{
 "cells": [
  {
   "cell_type": "code",
   "execution_count": null,
   "id": "4ea3dc76",
   "metadata": {},
   "outputs": [],
   "source": [
    "from dotenv import load_dotenv\n",
    "import os\n",
    "\n",
    "# Load the .env file\n",
    "load_dotenv(override=True)\n",
    "\n",
    "# Access environment variables\n",
    "SELENIUM_URL = os.getenv(\"SELENIUM_URL\", \"http://localhost:4444/wd/hub\")\n",
    "print(f\"SELENIUM_URL at '{SELENIUM_URL}'\")\n",
    "\n",
    "MONGODB_URI = os.getenv(\"MONGODB_URI\", \"mongodb://localhost:27017/\")\n",
    "print(f\"MONGODB_URI at '{MONGODB_URI}'\")\n",
    "\n",
    "DATABASE = os.getenv(\"DATABASE\", \"video_feed_crawler\")\n",
    "print(f\"DATABASE at '{DATABASE}'\")\n"
   ]
  },
  {
   "cell_type": "code",
   "execution_count": null,
   "id": "189a7057",
   "metadata": {},
   "outputs": [],
   "source": [
    "from selenium import webdriver\n",
    "from selenium.webdriver.common.by import By\n",
    "\n",
    "\n",
    "options = webdriver.ChromeOptions()\n",
    "options.add_argument(\"--no-sandbox\")\n",
    "# options.add_argument('headless')\n",
    "\n",
    "# Connect to the Selenium standalone container\n",
    "driver = webdriver.Remote(\n",
    "    command_executor=SELENIUM_URL,  # Or replace 'localhost' with the container host\n",
    "    options=options\n",
    ")\n"
   ]
  },
  {
   "cell_type": "code",
   "execution_count": null,
   "id": "581e6622",
   "metadata": {},
   "outputs": [],
   "source": [
    "url = \"https://www.youtube.com/@EonUpdates/videos\""
   ]
  },
  {
   "cell_type": "code",
   "execution_count": null,
   "id": "89867aac",
   "metadata": {},
   "outputs": [],
   "source": [
    "driver.get(url)\n",
    "\n",
    "title = driver.title\n",
    "\n",
    "# driver.implicitly_wait(20)\n",
    "\n",
    "print(title)"
   ]
  },
  {
   "cell_type": "code",
   "execution_count": null,
   "id": "063edc75",
   "metadata": {},
   "outputs": [],
   "source": [
    "body=driver.execute_script(\"return document.body.innerHTML;\")"
   ]
  },
  {
   "cell_type": "code",
   "execution_count": null,
   "id": "d6b9e60e",
   "metadata": {},
   "outputs": [],
   "source": [
    "driver.quit()"
   ]
  },
  {
   "cell_type": "code",
   "execution_count": null,
   "id": "80c35c34",
   "metadata": {},
   "outputs": [],
   "source": [
    "from bs4 import BeautifulSoup"
   ]
  },
  {
   "cell_type": "code",
   "execution_count": null,
   "id": "9a084fbc",
   "metadata": {},
   "outputs": [],
   "source": [
    "soup = BeautifulSoup(body, \"html.parser\")"
   ]
  },
  {
   "cell_type": "code",
   "execution_count": null,
   "id": "b79ae5a4",
   "metadata": {},
   "outputs": [],
   "source": [
    "videos_soup=soup.find_all('ytd-rich-item-renderer')"
   ]
  },
  {
   "cell_type": "code",
   "execution_count": null,
   "id": "9c0314fa",
   "metadata": {},
   "outputs": [],
   "source": [
    "videos_soup"
   ]
  },
  {
   "cell_type": "code",
   "execution_count": null,
   "id": "62fa3694",
   "metadata": {},
   "outputs": [],
   "source": [
    "len(videos_soup)"
   ]
  },
  {
   "cell_type": "code",
   "execution_count": null,
   "id": "e0800d84",
   "metadata": {},
   "outputs": [],
   "source": [
    "videos=[]"
   ]
  },
  {
   "cell_type": "code",
   "execution_count": null,
   "id": "a9f9b687",
   "metadata": {},
   "outputs": [],
   "source": [
    "for video_soup in videos_soup:\n",
    "    title = video_soup.find(id=\"video-title\").text\n",
    "    link=video_soup.find(id=\"video-title-link\").get('href', None)\n",
    "    uid=link.split(\"/watch?v=\")[1].split(\"&\")[0]\n",
    "    img_src=video_soup.find(\"img\").get('src', None)\n",
    "    \n",
    "    if not img_src:\n",
    "        continue\n",
    "    \n",
    "    video={\n",
    "        \"_id\": uid,\n",
    "        \"site\":0,\n",
    "        \"title\":title,\n",
    "        \"cat\":0,\n",
    "        # \"link\":link,\n",
    "        \"img\":img_src\n",
    "    }\n",
    "    \n",
    "    videos.append(video)\n",
    "    \n",
    "    "
   ]
  },
  {
   "cell_type": "code",
   "execution_count": null,
   "id": "968d7072",
   "metadata": {},
   "outputs": [],
   "source": [
    "for video in videos:\n",
    "    print(video)"
   ]
  },
  {
   "cell_type": "code",
   "execution_count": null,
   "id": "61ea8cd8",
   "metadata": {},
   "outputs": [],
   "source": [
    "from pymongo import MongoClient\n",
    "client = MongoClient(MONGODB_URI)"
   ]
  },
  {
   "cell_type": "code",
   "execution_count": null,
   "id": "22f92d7e",
   "metadata": {},
   "outputs": [],
   "source": [
    "db = client[DATABASE]"
   ]
  },
  {
   "cell_type": "code",
   "execution_count": null,
   "id": "7ee27f10",
   "metadata": {},
   "outputs": [],
   "source": [
    "# Get or create collection\n",
    "from pymongo import ASCENDING, DESCENDING\n",
    "\n",
    "\n",
    "collection_name = \"videos\"\n",
    "if collection_name not in db.list_collection_names():\n",
    "    db.create_collection(collection_name)\n",
    "\n",
    "videos_collection = db[collection_name]\n",
    "\n",
    "# Ensure the compound index exists\n",
    "index_name = \"cat_1_created_at_-1\"\n",
    "existing_indexes = videos_collection.index_information()\n",
    "\n",
    "if index_name not in existing_indexes:\n",
    "    videos_collection.create_index([(\"cat\", ASCENDING), (\"created_at\", DESCENDING)], name=index_name)\n",
    "\n",
    "print(f\"Collection '{collection_name}' and index are ready.\")"
   ]
  },
  {
   "cell_type": "code",
   "execution_count": null,
   "id": "9c8028cf",
   "metadata": {},
   "outputs": [],
   "source": [
    "import datetime\n"
   ]
  },
  {
   "cell_type": "code",
   "execution_count": null,
   "id": "3d03b76a",
   "metadata": {},
   "outputs": [],
   "source": [
    "for video in videos:\n",
    "\n",
    "    video[\"created_at\"]= datetime.datetime.now(tz=datetime.timezone.utc)\n",
    "\n",
    "    video_id = videos_collection.insert_one(video).inserted_id\n",
    "    print(video_id)"
   ]
  },
  {
   "cell_type": "code",
   "execution_count": null,
   "id": "83a91ffb",
   "metadata": {},
   "outputs": [],
   "source": [
    "collection_name = \"pages\"\n",
    "if collection_name not in db.list_collection_names():\n",
    "    db.create_collection(collection_name)\n",
    "\n",
    "pages_collection = db[collection_name]\n",
    "\n",
    "# Ensure the compound index exists\n",
    "index_name = \"cat_1_created_at_-1\"\n",
    "existing_indexes = pages_collection.index_information()\n",
    "\n",
    "if index_name not in existing_indexes:\n",
    "    pages_collection.create_index([(\"cat\", ASCENDING), (\"created_at\", DESCENDING)], name=index_name)\n",
    "\n",
    "print(f\"Collection '{collection_name}' and index are ready.\")"
   ]
  },
  {
   "cell_type": "code",
   "execution_count": null,
   "id": "e24cb406",
   "metadata": {},
   "outputs": [],
   "source": [
    "title=\"Eon Updates\"\n",
    "link=\"https://www.youtube.com/@EonUpdates/videos\"\n",
    "page={\n",
    "    \"site\":0,\n",
    "    \"title\":title,\n",
    "    \"cat\":0,\n",
    "    \"link\":link\n",
    "}\n",
    "\n",
    "\n",
    "\n",
    "page[\"created_at\"]= datetime.datetime.now(tz=datetime.timezone.utc)\n",
    "\n",
    "page_id = pages_collection.insert_one(page).inserted_id\n",
    "print(page_id)"
   ]
  }
 ],
 "metadata": {
  "kernelspec": {
   "display_name": ".venv",
   "language": "python",
   "name": "python3"
  },
  "language_info": {
   "codemirror_mode": {
    "name": "ipython",
    "version": 3
   },
   "file_extension": ".py",
   "mimetype": "text/x-python",
   "name": "python",
   "nbconvert_exporter": "python",
   "pygments_lexer": "ipython3",
   "version": "3.13.3"
  }
 },
 "nbformat": 4,
 "nbformat_minor": 5
}
