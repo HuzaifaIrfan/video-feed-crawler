{
 "cells": [
  {
   "cell_type": "code",
   "execution_count": null,
   "id": "4ea3dc76",
   "metadata": {},
   "outputs": [],
   "source": [
    "from dotenv import load_dotenv\n",
    "import os\n",
    "\n",
    "# Load the .env file\n",
    "load_dotenv(override=True)\n",
    "\n",
    "# Access environment variables\n",
    "SELENIUM_URL = os.getenv(\"SELENIUM_URL\", \"http://localhost:4444/wd/hub\")\n",
    "print(f\"SELENIUM_URL at '{SELENIUM_URL}'\")"
   ]
  },
  {
   "cell_type": "code",
   "execution_count": null,
   "id": "189a7057",
   "metadata": {},
   "outputs": [],
   "source": [
    "from selenium import webdriver\n",
    "from selenium.webdriver.common.by import By\n",
    "\n",
    "\n",
    "options = webdriver.ChromeOptions()\n",
    "options.add_argument(\"--no-sandbox\")\n",
    "# options.add_argument('headless')\n",
    "\n",
    "# Connect to the Selenium standalone container\n",
    "driver = webdriver.Remote(\n",
    "    command_executor=SELENIUM_URL,  # Or replace 'localhost' with the container host\n",
    "    options=options\n",
    ")\n"
   ]
  },
  {
   "cell_type": "code",
   "execution_count": null,
   "id": "581e6622",
   "metadata": {},
   "outputs": [],
   "source": [
    "url = \"https://www.youtube.com/@EonUpdates/videos\""
   ]
  },
  {
   "cell_type": "code",
   "execution_count": null,
   "id": "89867aac",
   "metadata": {},
   "outputs": [],
   "source": [
    "driver.get(url)\n",
    "\n",
    "title = driver.title\n",
    "\n",
    "# driver.implicitly_wait(20)\n",
    "\n",
    "print(title)"
   ]
  },
  {
   "cell_type": "code",
   "execution_count": null,
   "id": "063edc75",
   "metadata": {},
   "outputs": [],
   "source": [
    "body=driver.execute_script(\"return document.body.innerHTML;\")"
   ]
  },
  {
   "cell_type": "code",
   "execution_count": null,
   "id": "d6b9e60e",
   "metadata": {},
   "outputs": [],
   "source": [
    "driver.quit()"
   ]
  },
  {
   "cell_type": "code",
   "execution_count": null,
   "id": "80c35c34",
   "metadata": {},
   "outputs": [],
   "source": [
    "from bs4 import BeautifulSoup"
   ]
  },
  {
   "cell_type": "code",
   "execution_count": null,
   "id": "9a084fbc",
   "metadata": {},
   "outputs": [],
   "source": [
    "soup = BeautifulSoup(body, \"html.parser\")"
   ]
  },
  {
   "cell_type": "code",
   "execution_count": null,
   "id": "b79ae5a4",
   "metadata": {},
   "outputs": [],
   "source": [
    "videos_soup=soup.find_all('ytd-rich-item-renderer')"
   ]
  },
  {
   "cell_type": "code",
   "execution_count": null,
   "id": "62fa3694",
   "metadata": {},
   "outputs": [],
   "source": [
    "len(videos_soup)"
   ]
  },
  {
   "cell_type": "code",
   "execution_count": null,
   "id": "e0800d84",
   "metadata": {},
   "outputs": [],
   "source": [
    "videos=[]"
   ]
  },
  {
   "cell_type": "code",
   "execution_count": null,
   "id": "a9f9b687",
   "metadata": {},
   "outputs": [],
   "source": [
    "for video_soup in videos_soup:\n",
    "    title = video_soup.find(id=\"video-title\").text\n",
    "    img_src=video_soup.find(\"img\").get('src', None)\n",
    "    videos.append(title)\n",
    "    videos.append(img_src)\n",
    "    \n",
    "    "
   ]
  },
  {
   "cell_type": "code",
   "execution_count": null,
   "id": "968d7072",
   "metadata": {},
   "outputs": [],
   "source": [
    "for video in videos:\n",
    "    print(video)"
   ]
  },
  {
   "cell_type": "code",
   "execution_count": null,
   "id": "61ea8cd8",
   "metadata": {},
   "outputs": [],
   "source": []
  }
 ],
 "metadata": {
  "kernelspec": {
   "display_name": "Python 3",
   "language": "python",
   "name": "python3"
  },
  "language_info": {
   "codemirror_mode": {
    "name": "ipython",
    "version": 3
   },
   "file_extension": ".py",
   "mimetype": "text/x-python",
   "name": "python",
   "nbconvert_exporter": "python",
   "pygments_lexer": "ipython3",
   "version": "3.undefined.undefined"
  }
 },
 "nbformat": 4,
 "nbformat_minor": 5
}
